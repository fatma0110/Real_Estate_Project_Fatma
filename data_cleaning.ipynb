{
 "cells": [
  {
   "cell_type": "code",
   "execution_count": null,
   "id": "ae61a408",
   "metadata": {},
   "outputs": [],
   "source": [
    "import pandas as pd\n",
    "import numpy as np\n",
    "import re\n",
    "import seaborn as sns\n",
    "import matplotlib.pyplot as plt\n",
    "from sklearn.preprocessing import LabelEncoder, StandardScaler\n",
    "from scipy.stats import boxcox"
   ]
  },
  {
   "cell_type": "code",
   "execution_count": 130,
   "id": "f5a08076",
   "metadata": {},
   "outputs": [],
   "source": [
    "df1 = pd.read_csv(\"bayut.csv\")\n",
    "df2 = pd.read_csv(\"opensooq.csv\")"
   ]
  },
  {
   "cell_type": "code",
   "execution_count": 131,
   "id": "f53f13d7",
   "metadata": {},
   "outputs": [
    {
     "data": {
      "text/plain": [
       "Index(['Unnamed: 0', 'Title', 'Location', 'Price', 'Size', 'Listing_Type'], dtype='object')"
      ]
     },
     "execution_count": 131,
     "metadata": {},
     "output_type": "execute_result"
    }
   ],
   "source": [
    "df1.columns"
   ]
  },
  {
   "cell_type": "code",
   "execution_count": 132,
   "id": "e6f83900",
   "metadata": {},
   "outputs": [],
   "source": [
    "df1.drop('Unnamed: 0',axis=1, inplace=True)"
   ]
  },
  {
   "cell_type": "code",
   "execution_count": 133,
   "id": "c0f08f38",
   "metadata": {},
   "outputs": [
    {
     "data": {
      "text/plain": [
       "Index(['Unnamed: 0', 'Title', 'Location', 'Price', 'Size', 'Listing_Type'], dtype='object')"
      ]
     },
     "execution_count": 133,
     "metadata": {},
     "output_type": "execute_result"
    }
   ],
   "source": [
    "df2.columns"
   ]
  },
  {
   "cell_type": "code",
   "execution_count": 134,
   "id": "8d0a1a53",
   "metadata": {},
   "outputs": [],
   "source": [
    "df2.drop('Unnamed: 0',axis=1, inplace=True)"
   ]
  },
  {
   "cell_type": "code",
   "execution_count": 135,
   "id": "b0f370f2",
   "metadata": {},
   "outputs": [],
   "source": [
    "df = pd.concat([df1, df2], ignore_index=True)\n",
    "df.to_csv(\"before_cleaning.csv\")"
   ]
  },
  {
   "cell_type": "code",
   "execution_count": 136,
   "id": "b34bdd64",
   "metadata": {},
   "outputs": [
    {
     "data": {
      "text/html": [
       "<div>\n",
       "<style scoped>\n",
       "    .dataframe tbody tr th:only-of-type {\n",
       "        vertical-align: middle;\n",
       "    }\n",
       "\n",
       "    .dataframe tbody tr th {\n",
       "        vertical-align: top;\n",
       "    }\n",
       "\n",
       "    .dataframe thead th {\n",
       "        text-align: right;\n",
       "    }\n",
       "</style>\n",
       "<table border=\"1\" class=\"dataframe\">\n",
       "  <thead>\n",
       "    <tr style=\"text-align: right;\">\n",
       "      <th></th>\n",
       "      <th>Title</th>\n",
       "      <th>Location</th>\n",
       "      <th>Price</th>\n",
       "      <th>Size</th>\n",
       "      <th>Listing_Type</th>\n",
       "    </tr>\n",
       "  </thead>\n",
       "  <tbody>\n",
       "    <tr>\n",
       "      <th>0</th>\n",
       "      <td>1 Bedroom Apartment For Rent Al Hail, Muscat</td>\n",
       "      <td>Al Hail, Muscat</td>\n",
       "      <td>OMR300</td>\n",
       "      <td>100 Sq. M.</td>\n",
       "      <td>For Rent</td>\n",
       "    </tr>\n",
       "    <tr>\n",
       "      <th>1</th>\n",
       "      <td>2 Bedroom Apartment For Rent in Ruwi, Muscat</td>\n",
       "      <td>Ruwi, Muscat</td>\n",
       "      <td>OMR200</td>\n",
       "      <td>89 Sq. M.</td>\n",
       "      <td>For Rent</td>\n",
       "    </tr>\n",
       "    <tr>\n",
       "      <th>2</th>\n",
       "      <td>1 Bedroom Apartment For Rent in Ruwi, Muscat</td>\n",
       "      <td>Ruwi, Muscat</td>\n",
       "      <td>OMR150</td>\n",
       "      <td>68 Sq. M.</td>\n",
       "      <td>For Rent</td>\n",
       "    </tr>\n",
       "    <tr>\n",
       "      <th>3</th>\n",
       "      <td>2 Bedroom Chalet For Rent in Barka, Al Batinah</td>\n",
       "      <td>Barka, Al Batinah</td>\n",
       "      <td>OMR50</td>\n",
       "      <td>3,000 Sq. M.</td>\n",
       "      <td>For Rent</td>\n",
       "    </tr>\n",
       "    <tr>\n",
       "      <th>4</th>\n",
       "      <td>1 Bedroom Apartment For Rent in Muscat Hills, ...</td>\n",
       "      <td>Muscat Hills, Muscat</td>\n",
       "      <td>OMR499</td>\n",
       "      <td>88 Sq. M.</td>\n",
       "      <td>For Rent</td>\n",
       "    </tr>\n",
       "    <tr>\n",
       "      <th>...</th>\n",
       "      <td>...</td>\n",
       "      <td>...</td>\n",
       "      <td>...</td>\n",
       "      <td>...</td>\n",
       "      <td>...</td>\n",
       "    </tr>\n",
       "    <tr>\n",
       "      <th>6762</th>\n",
       "      <td>Furnished Daily in Muscat Amerat</td>\n",
       "      <td>Muscat, Amerat</td>\n",
       "      <td>10 OMR</td>\n",
       "      <td>Furnished Daily in Muscat Amerat</td>\n",
       "      <td>For Rent</td>\n",
       "    </tr>\n",
       "    <tr>\n",
       "      <th>6763</th>\n",
       "      <td>Semi Furnished Monthly in Muscat Al Khoud</td>\n",
       "      <td>Muscat, Al Khoud</td>\n",
       "      <td>100 OMR</td>\n",
       "      <td>Semi Furnished Monthly in Muscat Al Khoud</td>\n",
       "      <td>For Rent</td>\n",
       "    </tr>\n",
       "    <tr>\n",
       "      <th>6764</th>\n",
       "      <td>85 m2 1 Bedroom Apartments for Rent in Muscat ...</td>\n",
       "      <td>Muscat, Al Khoud</td>\n",
       "      <td>195 OMR</td>\n",
       "      <td>85 m2 1 Bedroom Apartments for Rent in Muscat ...</td>\n",
       "      <td>For Rent</td>\n",
       "    </tr>\n",
       "    <tr>\n",
       "      <th>6765</th>\n",
       "      <td>120 m2 1 Bedroom Apartments for Rent in Muscat...</td>\n",
       "      <td>Muscat, Seeb</td>\n",
       "      <td>100 OMR</td>\n",
       "      <td>120 m2 1 Bedroom Apartments for Rent in Muscat...</td>\n",
       "      <td>For Rent</td>\n",
       "    </tr>\n",
       "    <tr>\n",
       "      <th>6766</th>\n",
       "      <td>100 m2 3 Bedrooms Apartments for Rent in Musca...</td>\n",
       "      <td>Muscat, Al Khoud</td>\n",
       "      <td>130 OMR</td>\n",
       "      <td>100 m2 3 Bedrooms Apartments for Rent in Musca...</td>\n",
       "      <td>For Rent</td>\n",
       "    </tr>\n",
       "  </tbody>\n",
       "</table>\n",
       "<p>6767 rows × 5 columns</p>\n",
       "</div>"
      ],
      "text/plain": [
       "                                                  Title              Location  \\\n",
       "0          1 Bedroom Apartment For Rent Al Hail, Muscat       Al Hail, Muscat   \n",
       "1          2 Bedroom Apartment For Rent in Ruwi, Muscat          Ruwi, Muscat   \n",
       "2          1 Bedroom Apartment For Rent in Ruwi, Muscat          Ruwi, Muscat   \n",
       "3        2 Bedroom Chalet For Rent in Barka, Al Batinah     Barka, Al Batinah   \n",
       "4     1 Bedroom Apartment For Rent in Muscat Hills, ...  Muscat Hills, Muscat   \n",
       "...                                                 ...                   ...   \n",
       "6762                   Furnished Daily in Muscat Amerat        Muscat, Amerat   \n",
       "6763          Semi Furnished Monthly in Muscat Al Khoud      Muscat, Al Khoud   \n",
       "6764  85 m2 1 Bedroom Apartments for Rent in Muscat ...      Muscat, Al Khoud   \n",
       "6765  120 m2 1 Bedroom Apartments for Rent in Muscat...          Muscat, Seeb   \n",
       "6766  100 m2 3 Bedrooms Apartments for Rent in Musca...      Muscat, Al Khoud   \n",
       "\n",
       "        Price                                               Size Listing_Type  \n",
       "0      OMR300                                         100 Sq. M.     For Rent  \n",
       "1      OMR200                                          89 Sq. M.     For Rent  \n",
       "2      OMR150                                          68 Sq. M.     For Rent  \n",
       "3       OMR50                                       3,000 Sq. M.     For Rent  \n",
       "4      OMR499                                          88 Sq. M.     For Rent  \n",
       "...       ...                                                ...          ...  \n",
       "6762   10 OMR                   Furnished Daily in Muscat Amerat     For Rent  \n",
       "6763  100 OMR          Semi Furnished Monthly in Muscat Al Khoud     For Rent  \n",
       "6764  195 OMR  85 m2 1 Bedroom Apartments for Rent in Muscat ...     For Rent  \n",
       "6765  100 OMR  120 m2 1 Bedroom Apartments for Rent in Muscat...     For Rent  \n",
       "6766  130 OMR  100 m2 3 Bedrooms Apartments for Rent in Musca...     For Rent  \n",
       "\n",
       "[6767 rows x 5 columns]"
      ]
     },
     "execution_count": 136,
     "metadata": {},
     "output_type": "execute_result"
    }
   ],
   "source": [
    "df"
   ]
  },
  {
   "cell_type": "code",
   "execution_count": 137,
   "id": "f60d1a8c",
   "metadata": {},
   "outputs": [
    {
     "data": {
      "text/plain": [
       "(6767, 5)"
      ]
     },
     "execution_count": 137,
     "metadata": {},
     "output_type": "execute_result"
    }
   ],
   "source": [
    "df.shape"
   ]
  },
  {
   "cell_type": "code",
   "execution_count": 138,
   "id": "f0f86788",
   "metadata": {},
   "outputs": [
    {
     "name": "stdout",
     "output_type": "stream",
     "text": [
      "<class 'pandas.core.frame.DataFrame'>\n",
      "RangeIndex: 6767 entries, 0 to 6766\n",
      "Data columns (total 5 columns):\n",
      " #   Column        Non-Null Count  Dtype \n",
      "---  ------        --------------  ----- \n",
      " 0   Title         6767 non-null   object\n",
      " 1   Location      6767 non-null   object\n",
      " 2   Price         6652 non-null   object\n",
      " 3   Size          6767 non-null   object\n",
      " 4   Listing_Type  6767 non-null   object\n",
      "dtypes: object(5)\n",
      "memory usage: 264.5+ KB\n"
     ]
    }
   ],
   "source": [
    "df.info()"
   ]
  },
  {
   "cell_type": "code",
   "execution_count": 139,
   "id": "d2e8c4dc",
   "metadata": {},
   "outputs": [
    {
     "data": {
      "text/plain": [
       "Title             0\n",
       "Location          0\n",
       "Price           115\n",
       "Size              0\n",
       "Listing_Type      0\n",
       "dtype: int64"
      ]
     },
     "execution_count": 139,
     "metadata": {},
     "output_type": "execute_result"
    }
   ],
   "source": [
    "df.isnull().sum()"
   ]
  },
  {
   "cell_type": "code",
   "execution_count": 140,
   "id": "1243df13",
   "metadata": {},
   "outputs": [
    {
     "data": {
      "text/plain": [
       "np.int64(1459)"
      ]
     },
     "execution_count": 140,
     "metadata": {},
     "output_type": "execute_result"
    }
   ],
   "source": [
    "df.duplicated().sum()"
   ]
  },
  {
   "cell_type": "code",
   "execution_count": 141,
   "id": "eb796088",
   "metadata": {},
   "outputs": [],
   "source": [
    "df.drop_duplicates(keep='first', inplace=True)"
   ]
  },
  {
   "cell_type": "code",
   "execution_count": 142,
   "id": "433f4b50",
   "metadata": {},
   "outputs": [
    {
     "data": {
      "text/plain": [
       "array(['Al Hail, Muscat', 'Ruwi, Muscat', 'Barka, Al Batinah',\n",
       "       'Muscat Hills, Muscat', 'Qurum, Muscat',\n",
       "       'The Wave (Almouj), Muscat', 'Bosher, Muscat',\n",
       "       'Al Mawaleh, Muscat', 'Al Ghubrah, Muscat',\n",
       "       'Madinat As Sultan Qaboos, Muscat', 'Al Hamriyah, Muscat',\n",
       "       'Al Wadi Al Kabir, Muscat', 'Azaiba, Muscat', 'Al Khuwair, Muscat',\n",
       "       'Al Seeb, Muscat', 'Salalah, Dhofar', 'Misfah, Muscat',\n",
       "       'Al Amarat, Muscat', 'Bidiya, Al Sharqiya', 'Qantab, Muscat',\n",
       "       'Darsait, Muscat', 'Saham, Al Batinah', 'Al Maabilah, Muscat',\n",
       "       'Taqah, Dhofar', 'Barr Al Jissah, Muscat', 'Al Khoud, Muscat',\n",
       "       'Al Qabil, Al Sharqiya', 'Shinas, Al Batinah',\n",
       "       \"Al Masn'a, Al Batinah\", 'Muscat - Other, Muscat', 'Ansab, Muscat',\n",
       "       'Al Sifah, Muscat', 'Ghala, Muscat', 'Qurayyat, Muscat',\n",
       "       'Sumail, Al Dakhiliya', 'Sohar, Al Batinah', 'Sur, Al Sharqiya',\n",
       "       'Ibra, Al Sharqiya', 'Al Mudaibi, Al Sharqiya',\n",
       "       'Mahdhah, Al Buraimi', 'Al Duqum, Al Wusta', 'Mutrah, Muscat',\n",
       "       'Al Rusayl, Muscat', 'Al Rustaq, Al Batinah',\n",
       "       'Nizwa, Al Dakhiliya', 'Suwaiq, Al Batinah',\n",
       "       'Bidbid, Al Dakhiliya', 'Ibri, Al Dhahirah',\n",
       "       'Al Khaboura, Al Batinah', 'Sadab, Muscat', 'Al Mazyona, Dhofar',\n",
       "       'Al Buraimi, Al Buraimi', 'Dhofar, Salala', 'Muscat, Al Khoud',\n",
       "       'Muscat, Sidab', 'Al Dakhiliya, Bidbid', 'Muscat, Muscat Hills',\n",
       "       'Al Batinah, Barka', 'Muscat, Ansab', 'Muscat, Amerat',\n",
       "       'Dhofar, Mirbat', 'Muscat, Ghubrah', 'Muscat, Al Maabilah',\n",
       "       'Al Sharqiya, Other', 'Muscat, Al Khuwair', 'Dhofar, Taqah',\n",
       "       'Muscat, Qurm', 'Al Dakhiliya, Nizwa', 'Muscat, Bosher',\n",
       "       'Muscat, Al-Hail', 'Dhofar, Other', 'Muscat, Al Mawaleh',\n",
       "       'Muscat, Ghala', 'Muscat, Muttrah', 'Al Wustaa, Al Duqum',\n",
       "       'Al Batinah, Al Masnaah', 'Al Batinah, Sohar', 'Muscat, Azaiba',\n",
       "       'Muscat, Al Mouj', 'Muscat, Wadi Al Kabir', 'Muscat, Misfah',\n",
       "       'Al Batinah, Suwaiq', 'Muscat, Ruwi',\n",
       "       \"Al Sharqiya, Ja'alan Bani Bu Ali\", 'Muscat, Seeb',\n",
       "       'Muscat, Al-Wuttayah', 'Muscat, Rusail', 'Al Batinah, Al Rumais',\n",
       "       'Buraimi, Al Buraimi', 'Al Dakhiliya, Other', 'Muscat, Darsait',\n",
       "       \"Al Batinah, Wadi Al Ma'awal\", 'Dhofar, Sadah',\n",
       "       'Muscat, Madinat As Sultan Qaboos', 'Al Batinah, Other',\n",
       "       'Muscat, Other', 'Al Batinah, Liwa', 'Muscat, Halban',\n",
       "       'Muscat, Al-Sifah', 'Al Batinah, Al Khaboura', 'Al Sharqiya, Ibra',\n",
       "       'Al Batinah, Shinas', 'Al Sharqiya, Bidiya', 'Muscat, Quriyat',\n",
       "       'Al Sharqiya, Sur', 'Al Batinah, Saham', 'Muscat, Hamriya',\n",
       "       'Al Dhahirah, Ibri', 'Al Dakhiliya, Manah', 'Al Batinah, Rustaq',\n",
       "       'Muscat, Manumah', 'Al Dakhiliya, Sumail', 'Al Sharqiya, Masira',\n",
       "       'Al Sharqiya, Sinaw', 'Al Sharqiya, Al Mudaibi',\n",
       "       'Al Dakhiliya, Bahla', 'Al Dakhiliya, Adam', 'Al Dakhiliya, Hamra',\n",
       "       'Dhofar, Dhalkut', 'Muscat, Al Jafnayn',\n",
       "       'Dhofar, Shalim and The Hallaniyat Island',\n",
       "       'Al Sharqiya, Jalan Bani buhassan', 'Al Dakhiliya, Izki',\n",
       "       'Al Sharqiya, Al Kamil and Al Waafi', 'Muscat, Qantab',\n",
       "       'Al Dhahirah, Dhank', 'Al Batinah, Nakhl', 'Dhofar, Thumrait',\n",
       "       'Muscat, Al-Bustan', 'Al Dhahirah, Yunqul', 'Buraimi, Other'],\n",
       "      dtype=object)"
      ]
     },
     "execution_count": 142,
     "metadata": {},
     "output_type": "execute_result"
    }
   ],
   "source": [
    "df.Location.unique()"
   ]
  },
  {
   "cell_type": "code",
   "execution_count": 143,
   "id": "69de2833",
   "metadata": {},
   "outputs": [
    {
     "data": {
      "text/plain": [
       "array(['OMR300', 'OMR200', 'OMR150', 'OMR50', 'OMR499', 'OMR650',\n",
       "       'OMR850', 'OMR500', 'OMR250', 'OMR495', 'OMR750', 'OMR950',\n",
       "       'OMR230', 'OMR450', 'OMR800', 'OMR1,000', 'OMR700', 'OMR1,800',\n",
       "       'OMR2,600', 'OMR3,500', 'OMR180', 'OMR1,400', 'OMR1,150', 'OMR395',\n",
       "       'OMR1,500', 'OMR360', 'OMR270', 'OMR1,300', 'OMR550', 'OMR630',\n",
       "       'OMR225', 'OMR1,250', 'OMR900', 'OMR440', 'OMR380', 'OMR625',\n",
       "       'OMR190', 'OMR599', 'OMR600', 'OMR400', 'OMR1,200', 'OMR350',\n",
       "       'OMR2,500', 'OMR130', 'OMR275', 'OMR220', 'OMR1,900', 'OMR325',\n",
       "       'OMR1,350', 'OMR320', 'OMR420', 'OMR1,899', 'OMR390', 'OMR725',\n",
       "       'OMR755', 'OMR210', 'OMR1,750', 'OMR330', 'OMR90', 'OMR60',\n",
       "       'OMR799', 'OMR1,199', 'OMR1,700', 'OMR430', 'OMR160', 'OMR65',\n",
       "       'OMR120', 'OMR1,100', 'OMR140', 'OMR280', 'OMR110', 'OMR175',\n",
       "       'OMR100', 'OMR1,749', 'OMR6,000', 'OMR1,299', 'OMR2,100', 'OMR343',\n",
       "       'OMR240', 'OMR70', 'OMR525', 'OMR675', 'OMR185', 'OMR1,600',\n",
       "       'OMR340', 'OMR3,000', 'OMR460', 'OMR55', 'OMR425', 'OMR355',\n",
       "       'OMR195', 'OMR135', 'OMR699', 'OMR255', 'OMR770', 'OMR520',\n",
       "       'OMR165', 'OMR475', 'OMR5,000', 'OMR2,000', 'OMR1,999', 'OMR1,499',\n",
       "       'OMR80', 'OMR855', 'OMR555', 'OMR2,199', 'OMR170', 'OMR115',\n",
       "       'OMR1,599', 'OMR540', 'OMR490', 'OMR215', 'OMR85', 'OMR50,000',\n",
       "       'OMR1,450', 'OMR2,299', 'OMR1,699', 'OMR1,349', 'OMR415', 'OMR95',\n",
       "       'OMR749', 'OMR3,200', 'OMR99', 'OMR260', 'OMR48,000', 'OMR1,399',\n",
       "       'OMR285', 'OMR75', 'OMR4,500', 'OMR2,399', 'OMR510', 'OMR480',\n",
       "       'OMR125', 'OMR370', 'OMR290', 'OMR2,300', 'OMR775', 'OMR111',\n",
       "       'OMR470', 'OMR58', 'OMR310', 'OMR999', 'OMR1,050', 'OMR315',\n",
       "       'OMR1,099', 'OMR1,249', 'OMR2,499', 'OMR1,111', 'OMR1,799',\n",
       "       'OMR145', 'OMR580', 'OMR10,500', 'OMR4,800', 'OMR899', 'OMR155',\n",
       "       'OMR4,000', 'OMR265', 'OMR565', 'OMR6,400', 'OMR3,937', 'OMR1,967',\n",
       "       'OMR1,000,000', 'OMR1,650', '40 OMR', '350 OMR', '140 OMR',\n",
       "       '220 OMR', '80 OMR', '150 OMR', '35 OMR', '45 OMR', '300 OMR',\n",
       "       '30 OMR', '20 OMR', '550 OMR', '55 OMR', '10 OMR', '9 OMR',\n",
       "       '85 OMR', '410 OMR', '90 OMR', '675 OMR', '230 OMR', '50 OMR',\n",
       "       '175 OMR', '750 OMR', '1 OMR', '7 OMR', '100 OMR', '600 OMR',\n",
       "       '48 OMR', '180,000 OMR', '28 OMR', '17 OMR', '60 OMR', '15 OMR',\n",
       "       '89 OMR', '234 OMR', '109 OMR', '199 OMR', '11 OMR', '25 OMR',\n",
       "       '250 OMR', '170 OMR', '18 OMR', '65 OMR', '290 OMR', '110 OMR',\n",
       "       '165 OMR', '590 OMR', '900 OMR', '400 OMR', nan, '390 OMR',\n",
       "       '1,000 OMR', '1,050 OMR', '115 OMR', '12 OMR', '1,100 OMR',\n",
       "       '70 OMR', '200 OMR', '75 OMR', '420 OMR', '79 OMR', '280 OMR',\n",
       "       '800 OMR', '160 OMR', '120 OMR', '27 OMR', '210 OMR', '180 OMR',\n",
       "       '2,500 OMR', '1,600 OMR', '6 OMR', '130 OMR', '24 OMR', '23 OMR',\n",
       "       '43 OMR', '450 OMR', '8 OMR', '190 OMR', '66 OMR', '135 OMR',\n",
       "       '100,000 OMR', '1,250 OMR', '1,200 OMR', '950 OMR', '5 OMR',\n",
       "       '700 OMR', '45,000 OMR', '95 OMR', '13 OMR', '350,055 OMR',\n",
       "       '14 OMR', '90,000 OMR', '39 OMR', '320 OMR', '33 OMR', '380 OMR',\n",
       "       '19 OMR', '4,400 OMR', '1,650 OMR', '16 OMR', '440 OMR', '22 OMR',\n",
       "       '38 OMR', '25,000 OMR', '240 OMR', '500 OMR', '225 OMR', '340 OMR',\n",
       "       '2,000 OMR', '15,000 OMR', '58 OMR', '430 OMR', '940 OMR',\n",
       "       '270 OMR', '347 OMR', '423 OMR', '189 OMR', '99 OMR', '2,100 OMR',\n",
       "       '145 OMR', '185 OMR', '350,000 OMR', '72,000 OMR', '1,500 OMR',\n",
       "       '260 OMR', '3,000 OMR', '375 OMR', '460 OMR', '200,000 OMR',\n",
       "       '370 OMR', '650 OMR', '620 OMR', '1,400 OMR', '4 OMR', '1,700 OMR',\n",
       "       '125 OMR', '7,500 OMR', '310 OMR', '570 OMR', '850 OMR', '105 OMR',\n",
       "       '195 OMR', '1,300 OMR', '660 OMR', '575 OMR', '10,000,000,000 OMR',\n",
       "       '425 OMR', '640 OMR', '215 OMR', '272 OMR', '376 OMR', '863 OMR',\n",
       "       '139 OMR', '556 OMR', '370,000 OMR', '490 OMR', '170,000 OMR',\n",
       "       '3,500 OMR', '29 OMR', '21,000 OMR', '630 OMR', '4,000 OMR',\n",
       "       '4,300 OMR', '3 OMR', '46 OMR', '725 OMR', '6,000 OMR', '275 OMR',\n",
       "       '480 OMR', '1,027 OMR', '325 OMR', '65,000 OMR', '5,000 OMR',\n",
       "       '7,000 OMR', '1,800 OMR', '32 OMR', '59 OMR', '2 OMR', '580 OMR',\n",
       "       '265 OMR', '360 OMR', '12,000 OMR', '10,000 OMR', '5,500 OMR',\n",
       "       '20,000 OMR', '385 OMR', '99,999 OMR', '1,380 OMR', '2,250 OMR',\n",
       "       '2,208 OMR', '2,056 OMR', '155 OMR', '330 OMR', '26 OMR',\n",
       "       '4,800 OMR', '75,000 OMR', '2,200 OMR', '245 OMR', '159 OMR',\n",
       "       '659 OMR', '196 OMR', '92 OMR', '149 OMR', '253 OMR', '299 OMR',\n",
       "       '809 OMR', '329 OMR', '479 OMR', '912 OMR', '291 OMR', '121 OMR',\n",
       "       '54 OMR', '102 OMR', '281 OMR', '285 OMR', '112 OMR', '716 OMR',\n",
       "       '997 OMR', '612 OMR', '6,500 OMR', '475 OMR', '3,950 OMR',\n",
       "       '1,350 OMR', '235 OMR', '470 OMR', '5,530 OMR', '9,999 OMR',\n",
       "       '395 OMR', '530 OMR', '9,000 OMR', '485 OMR', '1,550 OMR',\n",
       "       '205 OMR', '540 OMR', '19,000 OMR', '546 OMR', '168 OMR',\n",
       "       '414 OMR', '37 OMR', '999 OMR', '1,064 OMR', '1,010 OMR',\n",
       "       '40,000 OMR', '670 OMR', '35,000 OMR', '3,717 OMR', '6,405 OMR',\n",
       "       '49 OMR', '625 OMR', '378 OMR', '2,600 OMR', '2,350 OMR',\n",
       "       '525 OMR', '60,000 OMR', '2,400 OMR', '70,000 OMR', '4,500 OMR',\n",
       "       '520 OMR', '3,200 OMR', '1,007 OMR', '461 OMR', '508 OMR',\n",
       "       '2,900 OMR', '8,000 OMR', '150,000 OMR', '1,150 OMR', '30,000 OMR',\n",
       "       '2,046 OMR', '5,000,500 OMR', '3,300 OMR', '9,500 OMR',\n",
       "       '1,179 OMR', '119 OMR', '9,800 OMR', '1,000,000 OMR', '609 OMR'],\n",
       "      dtype=object)"
      ]
     },
     "execution_count": 143,
     "metadata": {},
     "output_type": "execute_result"
    }
   ],
   "source": [
    "df[\"Price\"].unique()"
   ]
  },
  {
   "cell_type": "code",
   "execution_count": 144,
   "id": "26023c64",
   "metadata": {},
   "outputs": [
    {
     "name": "stderr",
     "output_type": "stream",
     "text": [
      "C:\\Users\\bbuser\\AppData\\Local\\Temp\\ipykernel_21520\\4115037658.py:3: FutureWarning: A value is trying to be set on a copy of a DataFrame or Series through chained assignment using an inplace method.\n",
      "The behavior will change in pandas 3.0. This inplace method will never work because the intermediate object on which we are setting values always behaves as a copy.\n",
      "\n",
      "For example, when doing 'df[col].method(value, inplace=True)', try using 'df.method({col: value}, inplace=True)' or df[col] = df[col].method(value) instead, to perform the operation inplace on the original object.\n",
      "\n",
      "\n",
      "  df['Price'].fillna(df['Price'].mode()[0], inplace=True)\n"
     ]
    }
   ],
   "source": [
    "df['Price']=df['Price'].str.replace(r'\\W+','', regex=True)\n",
    "df['Price']=df['Price'].str.replace(r'\\D+', '', regex=True)\n",
    "df['Price'].fillna(df['Price'].mode()[0], inplace=True)\n",
    "df['Price']=df['Price'].str.split().str[0].astype(float)"
   ]
  },
  {
   "cell_type": "code",
   "execution_count": 145,
   "id": "1455c3aa",
   "metadata": {},
   "outputs": [
    {
     "data": {
      "text/plain": [
       "array([3.00000e+02, 2.00000e+02, 1.50000e+02, 5.00000e+01, 4.99000e+02,\n",
       "       6.50000e+02, 8.50000e+02, 5.00000e+02, 2.50000e+02, 4.95000e+02,\n",
       "       7.50000e+02, 9.50000e+02, 2.30000e+02, 4.50000e+02, 8.00000e+02,\n",
       "       1.00000e+03, 7.00000e+02, 1.80000e+03, 2.60000e+03, 3.50000e+03,\n",
       "       1.80000e+02, 1.40000e+03, 1.15000e+03, 3.95000e+02, 1.50000e+03,\n",
       "       3.60000e+02, 2.70000e+02, 1.30000e+03, 5.50000e+02, 6.30000e+02,\n",
       "       2.25000e+02, 1.25000e+03, 9.00000e+02, 4.40000e+02, 3.80000e+02,\n",
       "       6.25000e+02, 1.90000e+02, 5.99000e+02, 6.00000e+02, 4.00000e+02,\n",
       "       1.20000e+03, 3.50000e+02, 2.50000e+03, 1.30000e+02, 2.75000e+02,\n",
       "       2.20000e+02, 1.90000e+03, 3.25000e+02, 1.35000e+03, 3.20000e+02,\n",
       "       4.20000e+02, 1.89900e+03, 3.90000e+02, 7.25000e+02, 7.55000e+02,\n",
       "       2.10000e+02, 1.75000e+03, 3.30000e+02, 9.00000e+01, 6.00000e+01,\n",
       "       7.99000e+02, 1.19900e+03, 1.70000e+03, 4.30000e+02, 1.60000e+02,\n",
       "       6.50000e+01, 1.20000e+02, 1.10000e+03, 1.40000e+02, 2.80000e+02,\n",
       "       1.10000e+02, 1.75000e+02, 1.00000e+02, 1.74900e+03, 6.00000e+03,\n",
       "       1.29900e+03, 2.10000e+03, 3.43000e+02, 2.40000e+02, 7.00000e+01,\n",
       "       5.25000e+02, 6.75000e+02, 1.85000e+02, 1.60000e+03, 3.40000e+02,\n",
       "       3.00000e+03, 4.60000e+02, 5.50000e+01, 4.25000e+02, 3.55000e+02,\n",
       "       1.95000e+02, 1.35000e+02, 6.99000e+02, 2.55000e+02, 7.70000e+02,\n",
       "       5.20000e+02, 1.65000e+02, 4.75000e+02, 5.00000e+03, 2.00000e+03,\n",
       "       1.99900e+03, 1.49900e+03, 8.00000e+01, 8.55000e+02, 5.55000e+02,\n",
       "       2.19900e+03, 1.70000e+02, 1.15000e+02, 1.59900e+03, 5.40000e+02,\n",
       "       4.90000e+02, 2.15000e+02, 8.50000e+01, 5.00000e+04, 1.45000e+03,\n",
       "       2.29900e+03, 1.69900e+03, 1.34900e+03, 4.15000e+02, 9.50000e+01,\n",
       "       7.49000e+02, 3.20000e+03, 9.90000e+01, 2.60000e+02, 4.80000e+04,\n",
       "       1.39900e+03, 2.85000e+02, 7.50000e+01, 4.50000e+03, 2.39900e+03,\n",
       "       5.10000e+02, 4.80000e+02, 1.25000e+02, 3.70000e+02, 2.90000e+02,\n",
       "       2.30000e+03, 7.75000e+02, 1.11000e+02, 4.70000e+02, 5.80000e+01,\n",
       "       3.10000e+02, 9.99000e+02, 1.05000e+03, 3.15000e+02, 1.09900e+03,\n",
       "       1.24900e+03, 2.49900e+03, 1.11100e+03, 1.79900e+03, 1.45000e+02,\n",
       "       5.80000e+02, 1.05000e+04, 4.80000e+03, 8.99000e+02, 1.55000e+02,\n",
       "       4.00000e+03, 2.65000e+02, 5.65000e+02, 6.40000e+03, 3.93700e+03,\n",
       "       1.96700e+03, 1.00000e+06, 1.65000e+03, 4.00000e+01, 3.50000e+01,\n",
       "       4.50000e+01, 3.00000e+01, 2.00000e+01, 1.00000e+01, 9.00000e+00,\n",
       "       4.10000e+02, 1.00000e+00, 7.00000e+00, 4.80000e+01, 1.80000e+05,\n",
       "       2.80000e+01, 1.70000e+01, 1.50000e+01, 8.90000e+01, 2.34000e+02,\n",
       "       1.09000e+02, 1.99000e+02, 1.10000e+01, 2.50000e+01, 1.80000e+01,\n",
       "       5.90000e+02, 1.20000e+01, 7.90000e+01, 2.70000e+01, 6.00000e+00,\n",
       "       2.40000e+01, 2.30000e+01, 4.30000e+01, 8.00000e+00, 6.60000e+01,\n",
       "       1.00000e+05, 5.00000e+00, 4.50000e+04, 1.30000e+01, 3.50055e+05,\n",
       "       1.40000e+01, 9.00000e+04, 3.90000e+01, 3.30000e+01, 1.90000e+01,\n",
       "       4.40000e+03, 1.60000e+01, 2.20000e+01, 3.80000e+01, 2.50000e+04,\n",
       "       1.50000e+04, 9.40000e+02, 3.47000e+02, 4.23000e+02, 1.89000e+02,\n",
       "       3.50000e+05, 7.20000e+04, 3.75000e+02, 2.00000e+05, 6.20000e+02,\n",
       "       4.00000e+00, 7.50000e+03, 5.70000e+02, 1.05000e+02, 6.60000e+02,\n",
       "       5.75000e+02, 1.00000e+10, 6.40000e+02, 2.72000e+02, 3.76000e+02,\n",
       "       8.63000e+02, 1.39000e+02, 5.56000e+02, 3.70000e+05, 1.70000e+05,\n",
       "       2.90000e+01, 2.10000e+04, 4.30000e+03, 3.00000e+00, 4.60000e+01,\n",
       "       1.02700e+03, 6.50000e+04, 7.00000e+03, 3.20000e+01, 5.90000e+01,\n",
       "       2.00000e+00, 1.20000e+04, 1.00000e+04, 5.50000e+03, 2.00000e+04,\n",
       "       3.85000e+02, 9.99990e+04, 1.38000e+03, 2.25000e+03, 2.20800e+03,\n",
       "       2.05600e+03, 2.60000e+01, 7.50000e+04, 2.20000e+03, 2.45000e+02,\n",
       "       1.59000e+02, 6.59000e+02, 1.96000e+02, 9.20000e+01, 1.49000e+02,\n",
       "       2.53000e+02, 2.99000e+02, 8.09000e+02, 3.29000e+02, 4.79000e+02,\n",
       "       9.12000e+02, 2.91000e+02, 1.21000e+02, 5.40000e+01, 1.02000e+02,\n",
       "       2.81000e+02, 1.12000e+02, 7.16000e+02, 9.97000e+02, 6.12000e+02,\n",
       "       6.50000e+03, 3.95000e+03, 2.35000e+02, 5.53000e+03, 9.99900e+03,\n",
       "       5.30000e+02, 9.00000e+03, 4.85000e+02, 1.55000e+03, 2.05000e+02,\n",
       "       1.90000e+04, 5.46000e+02, 1.68000e+02, 4.14000e+02, 3.70000e+01,\n",
       "       1.06400e+03, 1.01000e+03, 4.00000e+04, 6.70000e+02, 3.50000e+04,\n",
       "       3.71700e+03, 6.40500e+03, 4.90000e+01, 3.78000e+02, 2.35000e+03,\n",
       "       6.00000e+04, 2.40000e+03, 7.00000e+04, 1.00700e+03, 4.61000e+02,\n",
       "       5.08000e+02, 2.90000e+03, 8.00000e+03, 1.50000e+05, 3.00000e+04,\n",
       "       2.04600e+03, 5.00050e+06, 3.30000e+03, 9.50000e+03, 1.17900e+03,\n",
       "       1.19000e+02, 9.80000e+03, 6.09000e+02])"
      ]
     },
     "execution_count": 145,
     "metadata": {},
     "output_type": "execute_result"
    }
   ],
   "source": [
    "df[\"Price\"].unique()"
   ]
  },
  {
   "cell_type": "code",
   "execution_count": 146,
   "id": "22baecf1",
   "metadata": {},
   "outputs": [
    {
     "data": {
      "text/plain": [
       "Title           0\n",
       "Location        0\n",
       "Price           0\n",
       "Size            0\n",
       "Listing_Type    0\n",
       "dtype: int64"
      ]
     },
     "execution_count": 146,
     "metadata": {},
     "output_type": "execute_result"
    }
   ],
   "source": [
    "df.isnull().sum()"
   ]
  },
  {
   "cell_type": "code",
   "execution_count": 147,
   "id": "cc8951b3",
   "metadata": {},
   "outputs": [
    {
     "data": {
      "text/plain": [
       "array(['100 Sq. M.', '89 Sq. M.', '68 Sq. M.', ...,\n",
       "       '3-BEDROOM TOWNHOUSE [WA-155]',\n",
       "       'Exquisite 3-Bedroom Luxury Villa in the Heart of Al Mouj, Muscat For rent',\n",
       "       'Luxury furnished apartment for rent - primer Location with premium amenities'],\n",
       "      shape=(3166,), dtype=object)"
      ]
     },
     "execution_count": 147,
     "metadata": {},
     "output_type": "execute_result"
    }
   ],
   "source": [
    "df['Size'].unique()"
   ]
  },
  {
   "cell_type": "code",
   "execution_count": 148,
   "id": "8fdb11c8",
   "metadata": {},
   "outputs": [],
   "source": [
    "size_strict = df['Size'].str.extract(r'\\b(\\d[\\d,]*(?:\\.\\d+)?)\\b')[0]\n",
    "size_cleaned = size_strict.str.replace(',', '', regex=False)\n",
    "df['Size'] = pd.to_numeric(size_cleaned, errors='coerce')"
   ]
  },
  {
   "cell_type": "code",
   "execution_count": 149,
   "id": "aa9c7ff4",
   "metadata": {},
   "outputs": [
    {
     "data": {
      "text/plain": [
       "Title              0\n",
       "Location           0\n",
       "Price              0\n",
       "Size            1297\n",
       "Listing_Type       0\n",
       "dtype: int64"
      ]
     },
     "execution_count": 149,
     "metadata": {},
     "output_type": "execute_result"
    }
   ],
   "source": [
    "df.isnull().sum()"
   ]
  },
  {
   "cell_type": "code",
   "execution_count": 150,
   "id": "5652fc6b",
   "metadata": {},
   "outputs": [
    {
     "name": "stderr",
     "output_type": "stream",
     "text": [
      "C:\\Users\\bbuser\\AppData\\Local\\Temp\\ipykernel_21520\\1096586506.py:1: FutureWarning: A value is trying to be set on a copy of a DataFrame or Series through chained assignment using an inplace method.\n",
      "The behavior will change in pandas 3.0. This inplace method will never work because the intermediate object on which we are setting values always behaves as a copy.\n",
      "\n",
      "For example, when doing 'df[col].method(value, inplace=True)', try using 'df.method({col: value}, inplace=True)' or df[col] = df[col].method(value) instead, to perform the operation inplace on the original object.\n",
      "\n",
      "\n",
      "  df.Size.fillna(df.Size.mode()[0], inplace=True)\n"
     ]
    }
   ],
   "source": [
    "df.Size.fillna(df.Size.mode()[0], inplace=True)"
   ]
  },
  {
   "cell_type": "code",
   "execution_count": 151,
   "id": "46d08272",
   "metadata": {},
   "outputs": [
    {
     "data": {
      "text/plain": [
       "Title           0\n",
       "Location        0\n",
       "Price           0\n",
       "Size            0\n",
       "Listing_Type    0\n",
       "dtype: int64"
      ]
     },
     "execution_count": 151,
     "metadata": {},
     "output_type": "execute_result"
    }
   ],
   "source": [
    "df.isnull().sum()"
   ]
  },
  {
   "cell_type": "code",
   "execution_count": 152,
   "id": "631dc498",
   "metadata": {},
   "outputs": [],
   "source": [
    "# df['Governorate'] = df['Location'].apply(lambda x: x.split(',')[-1].strip())"
   ]
  },
  {
   "cell_type": "code",
   "execution_count": 153,
   "id": "9b65bd7b",
   "metadata": {},
   "outputs": [],
   "source": [
    "governorates = [\n",
    "    'Muscat', 'Al Batinah', 'Dhofar', 'Al Sharqiya',\n",
    "    'Al Dakhiliya', 'Al Buraimi', 'Al Wusta', 'Al Dhahirah'\n",
    "]\n",
    "\n",
    "def extract_governorate(location):\n",
    "    for gov in governorates:\n",
    "        if gov.lower() in location.lower():\n",
    "            return gov\n",
    "    return \"Other\"\n",
    "\n",
    "df['Governorate'] = df['Location'].apply(extract_governorate)\n"
   ]
  },
  {
   "cell_type": "code",
   "execution_count": 154,
   "id": "fa1c9885",
   "metadata": {},
   "outputs": [
    {
     "data": {
      "text/plain": [
       "array(['Muscat', 'Al Batinah', 'Dhofar', 'Al Sharqiya', 'Al Dakhiliya',\n",
       "       'Al Buraimi', 'Al Wusta', 'Al Dhahirah', 'Other'], dtype=object)"
      ]
     },
     "execution_count": 154,
     "metadata": {},
     "output_type": "execute_result"
    }
   ],
   "source": [
    "df[\"Governorate\"].unique()"
   ]
  },
  {
   "cell_type": "code",
   "execution_count": 155,
   "id": "918ababa",
   "metadata": {},
   "outputs": [],
   "source": [
    "df[df[\"Governorate\"]==\"Other\"]=df[df[\"Governorate\"]==\"Other\"].replace(\"Other\",\"Buraimi\")"
   ]
  },
  {
   "cell_type": "code",
   "execution_count": 156,
   "id": "28438c1c",
   "metadata": {},
   "outputs": [],
   "source": [
    "df['price_per_sqm'] = df['Price'] / df['Size']"
   ]
  },
  {
   "cell_type": "code",
   "execution_count": 157,
   "id": "175600f7",
   "metadata": {},
   "outputs": [
    {
     "name": "stdout",
     "output_type": "stream",
     "text": [
      "<class 'pandas.core.frame.DataFrame'>\n",
      "Index: 5308 entries, 0 to 6756\n",
      "Data columns (total 7 columns):\n",
      " #   Column         Non-Null Count  Dtype  \n",
      "---  ------         --------------  -----  \n",
      " 0   Title          5308 non-null   object \n",
      " 1   Location       5308 non-null   object \n",
      " 2   Price          5308 non-null   float64\n",
      " 3   Size           5308 non-null   float64\n",
      " 4   Listing_Type   5308 non-null   object \n",
      " 5   Governorate    5308 non-null   object \n",
      " 6   price_per_sqm  5308 non-null   float64\n",
      "dtypes: float64(3), object(4)\n",
      "memory usage: 331.8+ KB\n"
     ]
    }
   ],
   "source": [
    "df.info()"
   ]
  },
  {
   "cell_type": "code",
   "execution_count": 158,
   "id": "ce35a30b",
   "metadata": {},
   "outputs": [
    {
     "data": {
      "text/plain": [
       "<Axes: >"
      ]
     },
     "execution_count": 158,
     "metadata": {},
     "output_type": "execute_result"
    },
    {
     "data": {
      "image/png": "[encoded data removed]",
      "text/plain": [
       "<Figure size 640x480 with 1 Axes>"
      ]
     },
     "metadata": {},
     "output_type": "display_data"
    }
   ],
   "source": [
    "df.boxplot(\"Price\")"
   ]
  },
  {
   "cell_type": "code",
   "execution_count": 159,
   "id": "f8f89f28",
   "metadata": {},
   "outputs": [],
   "source": [
    "def iqr_outlier(col):\n",
    "    Q1 = df[col].quantile(0.25)\n",
    "    Q3 = df[col].quantile(0.75)\n",
    "    IQR = Q3 - Q1\n",
    "    LL = Q1 - 1.5 * IQR\n",
    "    UL = Q3 + 1.5 * IQR\n",
    "    return LL,UL"
   ]
  },
  {
   "cell_type": "code",
   "execution_count": 160,
   "id": "0791652b",
   "metadata": {},
   "outputs": [
    {
     "name": "stdout",
     "output_type": "stream",
     "text": [
      "-472.5 907.5\n"
     ]
    }
   ],
   "source": [
    "l,u= iqr_outlier(\"Price\")\n",
    "print(l,u)"
   ]
  },
  {
   "cell_type": "code",
   "execution_count": 161,
   "id": "74f3cb73",
   "metadata": {},
   "outputs": [],
   "source": [
    "df = df[df['Price'].between(l,u)]"
   ]
  },
  {
   "cell_type": "code",
   "execution_count": 162,
   "id": "9b5758f2",
   "metadata": {},
   "outputs": [
    {
     "data": {
      "image/png": "[encoded data removed]",
      "text/plain": [
       "<Figure size 640x480 with 1 Axes>"
      ]
     },
     "metadata": {},
     "output_type": "display_data"
    }
   ],
   "source": [
    "df.boxplot('Price')\n",
    "plt.show()"
   ]
  },
  {
   "cell_type": "code",
   "execution_count": 163,
   "id": "cccc4fa1",
   "metadata": {},
   "outputs": [
    {
     "data": {
      "image/png": "[encoded data removed]",
      "text/plain": [
       "<Figure size 640x480 with 1 Axes>"
      ]
     },
     "metadata": {},
     "output_type": "display_data"
    }
   ],
   "source": [
    "df.boxplot('Size')\n",
    "plt.show()"
   ]
  },
  {
   "cell_type": "code",
   "execution_count": 164,
   "id": "0b3c0a0d",
   "metadata": {},
   "outputs": [
    {
     "name": "stdout",
     "output_type": "stream",
     "text": [
      "-75.0 365.0\n"
     ]
    }
   ],
   "source": [
    "l,u= iqr_outlier(\"Size\")\n",
    "print(l,u)"
   ]
  },
  {
   "cell_type": "code",
   "execution_count": 165,
   "id": "f13299b8",
   "metadata": {},
   "outputs": [],
   "source": [
    "df = df[df['Size'].between(l,u)]"
   ]
  },
  {
   "cell_type": "code",
   "execution_count": 166,
   "id": "72317d75",
   "metadata": {},
   "outputs": [
    {
     "data": {
      "image/png": "[encoded data removed]",
      "text/plain": [
       "<Figure size 640x480 with 1 Axes>"
      ]
     },
     "metadata": {},
     "output_type": "display_data"
    }
   ],
   "source": [
    "df.boxplot('Size')\n",
    "plt.show()"
   ]
  },
  {
   "cell_type": "code",
   "execution_count": 167,
   "id": "a78ab91f",
   "metadata": {},
   "outputs": [
    {
     "data": {
      "image/png": "[encoded data removed]",
      "text/plain": [
       "<Figure size 640x480 with 1 Axes>"
      ]
     },
     "metadata": {},
     "output_type": "display_data"
    }
   ],
   "source": [
    "df.boxplot('price_per_sqm')\n",
    "plt.show()"
   ]
  },
  {
   "cell_type": "code",
   "execution_count": 168,
   "id": "a4443652",
   "metadata": {},
   "outputs": [
    {
     "name": "stdout",
     "output_type": "stream",
     "text": [
      "-4.25 8.15\n"
     ]
    }
   ],
   "source": [
    "l,u= iqr_outlier(\"price_per_sqm\")\n",
    "print(l,u)"
   ]
  },
  {
   "cell_type": "code",
   "execution_count": 169,
   "id": "876e39cc",
   "metadata": {},
   "outputs": [],
   "source": [
    "df = df[df['price_per_sqm'].between(l,u)]"
   ]
  },
  {
   "cell_type": "code",
   "execution_count": 170,
   "id": "d39ccbf8",
   "metadata": {},
   "outputs": [
    {
     "data": {
      "image/png": "[encoded data removed]",
      "text/plain": [
       "<Figure size 640x480 with 1 Axes>"
      ]
     },
     "metadata": {},
     "output_type": "display_data"
    }
   ],
   "source": [
    "df.boxplot('price_per_sqm')\n",
    "plt.show()"
   ]
  },
  {
   "cell_type": "code",
   "execution_count": 171,
   "id": "28953141",
   "metadata": {},
   "outputs": [],
   "source": [
    "l = LabelEncoder()"
   ]
  },
  {
   "cell_type": "code",
   "execution_count": 172,
   "id": "1a2af7c5",
   "metadata": {},
   "outputs": [],
   "source": [
    "categorical_columns = df.select_dtypes(include = 'object').columns"
   ]
  },
  {
   "cell_type": "code",
   "execution_count": 173,
   "id": "d7294136",
   "metadata": {},
   "outputs": [
    {
     "data": {
      "text/plain": [
       "Index(['Title', 'Location', 'Listing_Type', 'Governorate'], dtype='object')"
      ]
     },
     "execution_count": 173,
     "metadata": {},
     "output_type": "execute_result"
    }
   ],
   "source": [
    "categorical_columns"
   ]
  },
  {
   "cell_type": "code",
   "execution_count": 174,
   "id": "bba34fbf",
   "metadata": {},
   "outputs": [],
   "source": [
    "for i in categorical_columns:\n",
    "     df[i] = l.fit_transform(df[i])"
   ]
  },
  {
   "cell_type": "code",
   "execution_count": 175,
   "id": "9b5e9997",
   "metadata": {},
   "outputs": [
    {
     "data": {
      "text/html": [
       "<div>\n",
       "<style scoped>\n",
       "    .dataframe tbody tr th:only-of-type {\n",
       "        vertical-align: middle;\n",
       "    }\n",
       "\n",
       "    .dataframe tbody tr th {\n",
       "        vertical-align: top;\n",
       "    }\n",
       "\n",
       "    .dataframe thead th {\n",
       "        text-align: right;\n",
       "    }\n",
       "</style>\n",
       "<table border=\"1\" class=\"dataframe\">\n",
       "  <thead>\n",
       "    <tr style=\"text-align: right;\">\n",
       "      <th></th>\n",
       "      <th>Title</th>\n",
       "      <th>Location</th>\n",
       "      <th>Price</th>\n",
       "      <th>Size</th>\n",
       "      <th>Listing_Type</th>\n",
       "      <th>Governorate</th>\n",
       "      <th>price_per_sqm</th>\n",
       "    </tr>\n",
       "  </thead>\n",
       "  <tbody>\n",
       "    <tr>\n",
       "      <th>0</th>\n",
       "      <td>13</td>\n",
       "      <td>27</td>\n",
       "      <td>300.0</td>\n",
       "      <td>100.0</td>\n",
       "      <td>0</td>\n",
       "      <td>7</td>\n",
       "      <td>3.000000</td>\n",
       "    </tr>\n",
       "    <tr>\n",
       "      <th>1</th>\n",
       "      <td>526</td>\n",
       "      <td>110</td>\n",
       "      <td>200.0</td>\n",
       "      <td>89.0</td>\n",
       "      <td>0</td>\n",
       "      <td>7</td>\n",
       "      <td>2.247191</td>\n",
       "    </tr>\n",
       "    <tr>\n",
       "      <th>2</th>\n",
       "      <td>66</td>\n",
       "      <td>110</td>\n",
       "      <td>150.0</td>\n",
       "      <td>68.0</td>\n",
       "      <td>0</td>\n",
       "      <td>7</td>\n",
       "      <td>2.205882</td>\n",
       "    </tr>\n",
       "    <tr>\n",
       "      <th>4</th>\n",
       "      <td>63</td>\n",
       "      <td>74</td>\n",
       "      <td>499.0</td>\n",
       "      <td>88.0</td>\n",
       "      <td>0</td>\n",
       "      <td>7</td>\n",
       "      <td>5.670455</td>\n",
       "    </tr>\n",
       "    <tr>\n",
       "      <th>5</th>\n",
       "      <td>1265</td>\n",
       "      <td>109</td>\n",
       "      <td>650.0</td>\n",
       "      <td>300.0</td>\n",
       "      <td>0</td>\n",
       "      <td>7</td>\n",
       "      <td>2.166667</td>\n",
       "    </tr>\n",
       "  </tbody>\n",
       "</table>\n",
       "</div>"
      ],
      "text/plain": [
       "   Title  Location  Price   Size  Listing_Type  Governorate  price_per_sqm\n",
       "0     13        27  300.0  100.0             0            7       3.000000\n",
       "1    526       110  200.0   89.0             0            7       2.247191\n",
       "2     66       110  150.0   68.0             0            7       2.205882\n",
       "4     63        74  499.0   88.0             0            7       5.670455\n",
       "5   1265       109  650.0  300.0             0            7       2.166667"
      ]
     },
     "execution_count": 175,
     "metadata": {},
     "output_type": "execute_result"
    }
   ],
   "source": [
    "df.head()"
   ]
  },
  {
   "cell_type": "code",
   "execution_count": 176,
   "id": "21edde01",
   "metadata": {},
   "outputs": [
    {
     "data": {
      "image/png": "[encoded data removed]",
      "text/plain": [
       "<Figure size 640x480 with 1 Axes>"
      ]
     },
     "metadata": {},
     "output_type": "display_data"
    }
   ],
   "source": [
    "df['Size'].plot (kind='hist')\n",
    "plt.show()"
   ]
  },
  {
   "cell_type": "code",
   "execution_count": 177,
   "id": "c78141d3",
   "metadata": {},
   "outputs": [],
   "source": [
    "df['Size_boxcox'], fitted_lambda = boxcox(df['Size'])"
   ]
  },
  {
   "cell_type": "code",
   "execution_count": 179,
   "id": "9180ed71",
   "metadata": {},
   "outputs": [
    {
     "data": {
      "image/png": "[encoded data removed]",
      "text/plain": [
       "<Figure size 640x480 with 1 Axes>"
      ]
     },
     "metadata": {},
     "output_type": "display_data"
    }
   ],
   "source": [
    "df['Size_boxcox'].plot (kind='hist')\n",
    "plt.show()"
   ]
  },
  {
   "cell_type": "code",
   "execution_count": 180,
   "id": "52a36996",
   "metadata": {},
   "outputs": [
    {
     "data": {
      "text/plain": [
       "Index(['Title', 'Location', 'Price', 'Size', 'Listing_Type', 'Governorate',\n",
       "       'price_per_sqm', 'Size_boxcox'],\n",
       "      dtype='object')"
      ]
     },
     "execution_count": 180,
     "metadata": {},
     "output_type": "execute_result"
    }
   ],
   "source": [
    "df.columns"
   ]
  },
  {
   "cell_type": "code",
   "execution_count": 181,
   "id": "bf69d706",
   "metadata": {},
   "outputs": [],
   "source": [
    "scaling_columns = ['Price', 'Size', 'price_per_sqm']"
   ]
  },
  {
   "cell_type": "code",
   "execution_count": 182,
   "id": "ef8941b1",
   "metadata": {},
   "outputs": [],
   "source": [
    "scaler = StandardScaler()\n",
    "df[scaling_columns] = scaler.fit_transform(df[scaling_columns])"
   ]
  },
  {
   "cell_type": "code",
   "execution_count": 185,
   "id": "82b2c6da",
   "metadata": {},
   "outputs": [],
   "source": [
    "df.to_csv(\"after_cleaning.csv\")"
   ]
  },
  {
   "cell_type": "code",
   "execution_count": 187,
   "id": "34a837d5",
   "metadata": {},
   "outputs": [
    {
     "name": "stdout",
     "output_type": "stream",
     "text": [
      "--- Decision Tree Regression Results ---\n",
      "Mean Squared Error (MSE): 0.01\n",
      "R-squared (R2): 0.99\n"
     ]
    }
   ],
   "source": [
    "from sklearn.model_selection import train_test_split\n",
    "from sklearn.tree import DecisionTreeRegressor\n",
    "from sklearn.metrics import mean_squared_error, r2_score\n",
    "\n",
    "# Define features (X) and target (y) from the DataFrame\n",
    "X = df.drop('Price', axis=1)\n",
    "y = df['Price']\n",
    "\n",
    "# Split data\n",
    "X_train, X_test, y_train, y_test = train_test_split(X, y, test_size=0.2, random_state=42)\n",
    "\n",
    "# Create and train the Decision Tree Regression model\n",
    "model = DecisionTreeRegressor(random_state=42)\n",
    "model.fit(X_train, y_train)\n",
    "\n",
    "# Make predictions\n",
    "y_pred = model.predict(X_test)\n",
    "\n",
    "# Evaluate the model\n",
    "mse = mean_squared_error(y_test, y_pred)\n",
    "r2 = r2_score(y_test, y_pred)\n",
    "\n",
    "print(\"--- Decision Tree Regression Results ---\")\n",
    "print(f\"Mean Squared Error (MSE): {mse:.2f}\")\n",
    "print(f\"R-squared (R2): {r2:.2f}\")"
   ]
  },
  {
   "cell_type": "code",
   "execution_count": null,
   "id": "35f5c9ad",
   "metadata": {},
   "outputs": [],
   "source": []
  }
 ],
 "metadata": {
  "kernelspec": {
   "display_name": "Python 3",
   "language": "python",
   "name": "python3"
  },
  "language_info": {
   "codemirror_mode": {
    "name": "ipython",
    "version": 3
   },
   "file_extension": ".py",
   "mimetype": "text/x-python",
   "name": "python",
   "nbconvert_exporter": "python",
   "pygments_lexer": "ipython3",
   "version": "3.13.3"
  }
 },
 "nbformat": 4,
 "nbformat_minor": 5
}
