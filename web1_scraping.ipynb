{
 "cells": [
  {
   "cell_type": "code",
   "execution_count": 1,
   "id": "405e3e1a",
   "metadata": {},
   "outputs": [],
   "source": [
    "import requests\n",
    "import pandas as pd\n",
    "from bs4 import BeautifulSoup"
   ]
  },
  {
   "cell_type": "code",
   "execution_count": 2,
   "id": "8daa37c2",
   "metadata": {},
   "outputs": [],
   "source": [
    "headers={'User-Agent': 'Mozilla/5.0 (Windows NT 10.0; Win64; x64) AppleWebKit/537.36 (KHTML, like Gecko) Chrome/138.0.0.0 Safari/537.36'}"
   ]
  },
  {
   "cell_type": "code",
   "execution_count": 3,
   "id": "10f02bd4",
   "metadata": {},
   "outputs": [],
   "source": [
    "current_page_url = \"https://www.bayut.om/en/oman/properties-for-rent/\"\n",
    "bas_url = \"https://www.bayut.om/en\""
   ]
  },
  {
   "cell_type": "code",
   "execution_count": 4,
   "id": "121e69a7",
   "metadata": {},
   "outputs": [
    {
     "data": {
      "text/plain": [
       "<Response [200]>"
      ]
     },
     "execution_count": 4,
     "metadata": {},
     "output_type": "execute_result"
    }
   ],
   "source": [
    "response = requests.get(bas_url, headers=headers)\n",
    "response.raise_for_status()\n",
    "response"
   ]
  },
  {
   "cell_type": "code",
   "execution_count": 5,
   "id": "57c23789",
   "metadata": {},
   "outputs": [],
   "source": [
    "response_1 = requests.get(current_page_url, headers=headers)\n",
    "response_1.raise_for_status()"
   ]
  },
  {
   "cell_type": "code",
   "execution_count": 6,
   "id": "77d33f6f",
   "metadata": {},
   "outputs": [],
   "source": [
    "soup1 = BeautifulSoup(response_1.text, 'html.parser')"
   ]
  },
  {
   "cell_type": "code",
   "execution_count": null,
   "id": "85224104",
   "metadata": {},
   "outputs": [
    {
     "name": "stdout",
     "output_type": "stream",
     "text": [
      "scarpping page:  https://www.bayut.om/en/oman/properties-for-rent/\n",
      "scarpping page:  https://www.bayut.om/en/oman/properties-for-rent/page-2/\n",
      "scarpping page:  https://www.bayut.om/en/oman/properties-for-rent/page-3/\n",
      "scarpping page:  https://www.bayut.om/en/oman/properties-for-rent/page-4/\n",
      "scarpping page:  https://www.bayut.om/en/oman/properties-for-rent/page-5/\n",
      "scarpping page:  https://www.bayut.om/en/oman/properties-for-rent/page-6/\n",
      "scarpping page:  https://www.bayut.om/en/oman/properties-for-rent/page-7/\n",
      "scarpping page:  https://www.bayut.om/en/oman/properties-for-rent/page-8/\n",
      "scarpping page:  https://www.bayut.om/en/oman/properties-for-rent/page-9/\n",
      "scarpping page:  https://www.bayut.om/en/oman/properties-for-rent/page-10/\n",
      "scarpping page:  https://www.bayut.om/en/oman/properties-for-rent/page-11/\n",
      "scarpping page:  https://www.bayut.om/en/oman/properties-for-rent/page-12/\n",
      "scarpping page:  https://www.bayut.om/en/oman/properties-for-rent/page-13/\n",
      "scarpping page:  https://www.bayut.om/en/oman/properties-for-rent/page-14/\n",
      "scarpping page:  https://www.bayut.om/en/oman/properties-for-rent/page-15/\n",
      "scarpping page:  https://www.bayut.om/en/oman/properties-for-rent/page-16/\n",
      "scarpping page:  https://www.bayut.om/en/oman/properties-for-rent/page-17/\n",
      "scarpping page:  https://www.bayut.om/en/oman/properties-for-rent/page-18/\n",
      "scarpping page:  https://www.bayut.om/en/oman/properties-for-rent/page-19/\n",
      "scarpping page:  https://www.bayut.om/en/oman/properties-for-rent/page-20/\n",
      "scarpping page:  https://www.bayut.om/en/oman/properties-for-rent/page-21/\n",
      "scarpping page:  https://www.bayut.om/en/oman/properties-for-rent/page-22/\n",
      "scarpping page:  https://www.bayut.om/en/oman/properties-for-rent/page-23/\n",
      "scarpping page:  https://www.bayut.om/en/oman/properties-for-rent/page-24/\n",
      "scarpping page:  https://www.bayut.om/en/oman/properties-for-rent/page-25/\n",
      "scarpping page:  https://www.bayut.om/en/oman/properties-for-rent/page-26/\n",
      "scarpping page:  https://www.bayut.om/en/oman/properties-for-rent/page-27/\n",
      "scarpping page:  https://www.bayut.om/en/oman/properties-for-rent/page-28/\n",
      "scarpping page:  https://www.bayut.om/en/oman/properties-for-rent/page-29/\n",
      "scarpping page:  https://www.bayut.om/en/oman/properties-for-rent/page-30/\n",
      "scarpping page:  https://www.bayut.om/en/oman/properties-for-rent/page-31/\n",
      "scarpping page:  https://www.bayut.om/en/oman/properties-for-rent/page-32/\n",
      "scarpping page:  https://www.bayut.om/en/oman/properties-for-rent/page-33/\n",
      "scarpping page:  https://www.bayut.om/en/oman/properties-for-rent/page-34/\n",
      "scarpping page:  https://www.bayut.om/en/oman/properties-for-rent/page-35/\n",
      "scarpping page:  https://www.bayut.om/en/oman/properties-for-rent/page-36/\n",
      "scarpping page:  https://www.bayut.om/en/oman/properties-for-rent/page-37/\n",
      "scarpping page:  https://www.bayut.om/en/oman/properties-for-rent/page-38/\n",
      "scarpping page:  https://www.bayut.om/en/oman/properties-for-rent/page-39/\n",
      "scarpping page:  https://www.bayut.om/en/oman/properties-for-rent/page-40/\n",
      "scarpping page:  https://www.bayut.om/en/oman/properties-for-rent/page-41/\n",
      "scarpping page:  https://www.bayut.om/en/oman/properties-for-rent/page-42/\n",
      "scarpping page:  https://www.bayut.om/en/oman/properties-for-rent/page-43/\n",
      "scarpping page:  https://www.bayut.om/en/oman/properties-for-rent/page-44/\n",
      "scarpping page:  https://www.bayut.om/en/oman/properties-for-rent/page-45/\n",
      "scarpping page:  https://www.bayut.om/en/oman/properties-for-rent/page-46/\n",
      "scarpping page:  https://www.bayut.om/en/oman/properties-for-rent/page-47/\n",
      "scarpping page:  https://www.bayut.om/en/oman/properties-for-rent/page-48/\n",
      "scarpping page:  https://www.bayut.om/en/oman/properties-for-rent/page-49/\n",
      "scarpping page:  https://www.bayut.om/en/oman/properties-for-rent/page-50/\n",
      "scarpping page:  https://www.bayut.om/en/oman/properties-for-rent/page-51/\n",
      "scarpping page:  https://www.bayut.om/en/oman/properties-for-rent/page-52/\n",
      "scarpping page:  https://www.bayut.om/en/oman/properties-for-rent/page-53/\n",
      "scarpping page:  https://www.bayut.om/en/oman/properties-for-rent/page-54/\n",
      "scarpping page:  https://www.bayut.om/en/oman/properties-for-rent/page-55/\n",
      "Error extracting pagination link: 'NoneType' object has no attribute 'attrs'\n",
      "no more apartment found!\n"
     ]
    }
   ],
   "source": [
    "import time\n",
    "import requests.compat\n",
    "all_apt = []\n",
    "\n",
    "while True:\n",
    "    print(\"scarpping page: \", current_page_url)\n",
    "    try:\n",
    "        new_response = requests.get(current_page_url, headers=headers, timeout=10)\n",
    "        new_response.raise_for_status()\n",
    "    except requests.exceptions.RequestException as e:\n",
    "        print(f\"error fetching page {current_page_url}: {e}\")\n",
    "        break\n",
    "    new_soup = BeautifulSoup(new_response.text, 'html.parser')\n",
    "    apartments = new_soup.select('article')\n",
    "\n",
    "    if not apartments:\n",
    "        print(\"no apartment found!\")\n",
    "        break\n",
    "    for i in apartments:\n",
    "        n = i.find('div',class_='dde89f38').a.attrs['href']\n",
    "        u1 = requests.compat.urljoin(\"https://www.bayut.om/en\", n)\n",
    "        #print(u1)\n",
    "        r = requests.get(u1, headers=headers)\n",
    "        s = BeautifulSoup(r.text, 'html.parser')\n",
    "        d = s.select('div.a5a066fe')\n",
    "        for j in d:\n",
    "            title = j.find('h1').text\n",
    "            location = j.find('div', class_='e4fd45f0').text\n",
    "            price = j.find('div', class_='_2923a568').text\n",
    "            size = j.find_all('span', class_=\"_140e6903\")[-1].text\n",
    "            listing_type = j.find_all('span', class_=\"_2fdf7fc5\")[1].text\n",
    "            # print(f\"title: {title}\")\n",
    "            # print(f\"location: {location}\")\n",
    "            # print(f\"price: {price}\")\n",
    "            # print(f\"size: {size}\")\n",
    "            # print(f\"listing_type: {listing_type}\")\n",
    "            d1 = {'Title':title, 'Location':location, 'Price': price, 'Size': size, 'Listing_Type':listing_type}\n",
    "            all_apt.append(d1)\n",
    "\n",
    "    div_1 = new_soup.select('div.e27bf381')\n",
    "    for link in div_1:\n",
    "        try:\n",
    "            next_button = link.find('ul').find_all('li')[-1].find('a').attrs['title']\n",
    "            new_link = link.find('ul').find_all('li')[-1].find('a').attrs['href']\n",
    "        except (AttributeError, IndexError, TypeError) as e:\n",
    "            print(\"Error extracting pagination link:\", e)\n",
    "            next_button = ''\n",
    "    if next_button:\n",
    "        current_page_url = requests.compat.urljoin(current_page_url, new_link)\n",
    "        time.sleep(1)\n",
    "    else:\n",
    "        print(\"no more apartment found!\")\n",
    "        break"
   ]
  },
  {
   "cell_type": "code",
   "execution_count": null,
   "id": "15b3561e",
   "metadata": {},
   "outputs": [],
   "source": [
    "df1 = pd.DataFrame(all_apt)\n",
    "df1.to_csv(\"bayut.csv\")"
   ]
  },
  {
   "cell_type": "code",
   "execution_count": null,
   "id": "8d273aa4",
   "metadata": {},
   "outputs": [],
   "source": []
  }
 ],
 "metadata": {
  "kernelspec": {
   "display_name": "Python 3",
   "language": "python",
   "name": "python3"
  },
  "language_info": {
   "codemirror_mode": {
    "name": "ipython",
    "version": 3
   },
   "file_extension": ".py",
   "mimetype": "text/x-python",
   "name": "python",
   "nbconvert_exporter": "python",
   "pygments_lexer": "ipython3",
   "version": "3.13.3"
  }
 },
 "nbformat": 4,
 "nbformat_minor": 5
}
